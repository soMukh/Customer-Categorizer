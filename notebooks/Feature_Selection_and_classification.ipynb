{
 "cells": [
  {
   "cell_type": "markdown",
   "id": "4c53ff9c",
   "metadata": {
    "id": "4c53ff9c"
   },
   "source": [
    "# Classification after Clustering with Agglomerative Clustering"
   ]
  },
  {
   "cell_type": "markdown",
   "id": "b45ecb70",
   "metadata": {
    "id": "b45ecb70"
   },
   "source": [
    "### Import CSV and Required Packages"
   ]
  },
  {
   "cell_type": "code",
   "execution_count": 1,
   "id": "93a06238",
   "metadata": {
    "id": "93a06238",
    "outputId": "e60c0777-622a-4f97-b4da-c5c1a9d063f8"
   },
   "outputs": [
    {
     "name": "stdout",
     "output_type": "stream",
     "text": [
      "(2240, 22)\n"
     ]
    }
   ],
   "source": [
    "import pandas as pd\n",
    "import numpy as np\n",
    "import matplotlib.pyplot as plt\n",
    "import seaborn as sns\n",
    "import warnings\n",
    "from sklearn.model_selection import train_test_split\n",
    "from sklearn.ensemble import RandomForestClassifier\n",
    "from sklearn.metrics import accuracy_score, classification_report\n",
    "from sklearn.model_selection import cross_val_score\n",
    "from sklearn.metrics import ConfusionMatrixDisplay\n",
    "\n",
    "\n",
    "\n",
    "\n",
    "warnings.filterwarnings(\"ignore\")\n",
    "pd.pandas.set_option(\"display.max_columns\", None)\n",
    "# Create Dataframe\n",
    "df = pd.read_csv(r\"./data/clustered_data.csv\")\n",
    "# Print shape of dataset\n",
    "print(df.shape)"
   ]
  },
  {
   "cell_type": "markdown",
   "id": "e0f6ca74",
   "metadata": {
    "id": "e0f6ca74"
   },
   "source": [
    "**Split X and y**\n",
    "- Why do we split our data?\n",
    "> Training Dataset is the part of Original Dataset that we use to train our ML model. The model learns on this data by running the algorithm and maps a function F(x) where “x” in the independent variable (inputs) for “y” where “y” is the dependent variable(output)."
   ]
  },
  {
   "cell_type": "code",
   "execution_count": 2,
   "id": "b1d3a48e",
   "metadata": {
    "id": "b1d3a48e"
   },
   "outputs": [],
   "source": [
    "X = df.drop(\"cluster\", axis=1) #dropping the target column which is 'cluster'\n",
    "y = df[\"cluster\"]"
   ]
  },
  {
   "cell_type": "markdown",
   "id": "bc221118",
   "metadata": {
    "id": "bc221118"
   },
   "source": [
    "## Grid Search\n",
    "\n",
    "- Why do we use Grid Search?\n",
    "\n",
    "`GridSearchCV` is a technique to search through the best parameter values from the given set of the grid of parameters. It is basically a cross-validation method. the model and the parameters are required to be fed in. Best parameter values are extracted and then the predictions are made."
   ]
  },
  {
   "cell_type": "markdown",
   "id": "bb4e23b9",
   "metadata": {},
   "source": [
    "## Select the best model\n",
    "- so here we have some list of the best classification algorithms we imported. Now we will compare each model's score and see which model is performing better than rest of the others"
   ]
  },
  {
   "cell_type": "code",
   "execution_count": 3,
   "id": "7659f077",
   "metadata": {},
   "outputs": [
    {
     "name": "stdout",
     "output_type": "stream",
     "text": [
      "Requirement already satisfied: xgboost in c:\\users\\etern\\anaconda3\\lib\\site-packages (3.0.2)\n",
      "Requirement already satisfied: numpy in c:\\users\\etern\\anaconda3\\lib\\site-packages (from xgboost) (1.26.4)\n",
      "Requirement already satisfied: scipy in c:\\users\\etern\\anaconda3\\lib\\site-packages (from xgboost) (1.13.1)\n",
      "Requirement already satisfied: catboost in c:\\users\\etern\\anaconda3\\lib\\site-packages (1.2.8)\n",
      "Requirement already satisfied: graphviz in c:\\users\\etern\\anaconda3\\lib\\site-packages (from catboost) (0.21)\n",
      "Requirement already satisfied: matplotlib in c:\\users\\etern\\anaconda3\\lib\\site-packages (from catboost) (3.9.2)\n",
      "Requirement already satisfied: numpy<3.0,>=1.16.0 in c:\\users\\etern\\anaconda3\\lib\\site-packages (from catboost) (1.26.4)\n",
      "Requirement already satisfied: pandas>=0.24 in c:\\users\\etern\\anaconda3\\lib\\site-packages (from catboost) (2.2.2)\n",
      "Requirement already satisfied: scipy in c:\\users\\etern\\anaconda3\\lib\\site-packages (from catboost) (1.13.1)\n",
      "Requirement already satisfied: plotly in c:\\users\\etern\\anaconda3\\lib\\site-packages (from catboost) (5.24.1)\n",
      "Requirement already satisfied: six in c:\\users\\etern\\anaconda3\\lib\\site-packages (from catboost) (1.16.0)\n",
      "Requirement already satisfied: python-dateutil>=2.8.2 in c:\\users\\etern\\anaconda3\\lib\\site-packages (from pandas>=0.24->catboost) (2.9.0.post0)\n",
      "Requirement already satisfied: pytz>=2020.1 in c:\\users\\etern\\anaconda3\\lib\\site-packages (from pandas>=0.24->catboost) (2024.1)\n",
      "Requirement already satisfied: tzdata>=2022.7 in c:\\users\\etern\\anaconda3\\lib\\site-packages (from pandas>=0.24->catboost) (2023.3)\n",
      "Requirement already satisfied: contourpy>=1.0.1 in c:\\users\\etern\\anaconda3\\lib\\site-packages (from matplotlib->catboost) (1.2.0)\n",
      "Requirement already satisfied: cycler>=0.10 in c:\\users\\etern\\anaconda3\\lib\\site-packages (from matplotlib->catboost) (0.11.0)\n",
      "Requirement already satisfied: fonttools>=4.22.0 in c:\\users\\etern\\anaconda3\\lib\\site-packages (from matplotlib->catboost) (4.51.0)\n",
      "Requirement already satisfied: kiwisolver>=1.3.1 in c:\\users\\etern\\anaconda3\\lib\\site-packages (from matplotlib->catboost) (1.4.4)\n",
      "Requirement already satisfied: packaging>=20.0 in c:\\users\\etern\\anaconda3\\lib\\site-packages (from matplotlib->catboost) (24.1)\n",
      "Requirement already satisfied: pillow>=8 in c:\\users\\etern\\anaconda3\\lib\\site-packages (from matplotlib->catboost) (10.4.0)\n",
      "Requirement already satisfied: pyparsing>=2.3.1 in c:\\users\\etern\\anaconda3\\lib\\site-packages (from matplotlib->catboost) (3.1.2)\n",
      "Requirement already satisfied: tenacity>=6.2.0 in c:\\users\\etern\\anaconda3\\lib\\site-packages (from plotly->catboost) (8.2.3)\n"
     ]
    }
   ],
   "source": [
    "!pip install xgboost\n",
    "!pip install catboost\n",
    "from sklearn.linear_model import LogisticRegression\n",
    "from sklearn.ensemble import RandomForestClassifier, AdaBoostClassifier, GradientBoostingClassifier\n",
    "from sklearn.neighbors import KNeighborsClassifier\n",
    "from sklearn.tree import DecisionTreeClassifier\n",
    "from sklearn.svm import SVC\n",
    "from sklearn.metrics import accuracy_score, classification_report,ConfusionMatrixDisplay,precision_score, recall_score, f1_score, roc_auc_score,roc_curve,confusion_matrix\n",
    "from xgboost import XGBClassifier\n",
    "from catboost import CatBoostClassifier\n",
    "from sklearn import metrics \n",
    "\n",
    "models = {\n",
    "    \"Random Forest\": RandomForestClassifier(),\n",
    "    \"Decision Tree\": DecisionTreeClassifier(),\n",
    "    \"Gradient Boosting\": GradientBoostingClassifier(),\n",
    "    \"Logistic Regression\": LogisticRegression(),\n",
    "     \"K-Neighbors Classifier\": KNeighborsClassifier(),\n",
    "    \"XGBClassifier\": XGBClassifier(), \n",
    "     \"CatBoosting Classifier\": CatBoostClassifier(verbose=False),\n",
    "    \"AdaBoost Classifier\": AdaBoostClassifier()\n",
    "}"
   ]
  },
  {
   "cell_type": "markdown",
   "id": "0477f045",
   "metadata": {},
   "source": [
    "- ### We will create a generic function to check each model's performance so that we can compare those"
   ]
  },
  {
   "cell_type": "code",
   "execution_count": 4,
   "id": "2de9e39b",
   "metadata": {},
   "outputs": [],
   "source": [
    "# Create a function which can evaluate models and return a report \n",
    "def evaluate_models(X, y, models):\n",
    "    '''\n",
    "    This function takes in X and y and models dictionary as input\n",
    "    It splits the data into Train Test split\n",
    "    Iterates through the given model dictionary and evaluates the metrics\n",
    "    Returns: Dataframe which contains report of all models metrics with cost\n",
    "    '''\n",
    "    # separate dataset into train and test\n",
    "    X_train, X_test, y_train, y_test = train_test_split(X,y,test_size=0.2,random_state=42)\n",
    "    \n",
    "\n",
    "    models_list = []\n",
    "    scores = []\n",
    "    \n",
    "    for i in range(len(list(models))):\n",
    "        model = list(models.values())[i]\n",
    "        model.fit(X_train, y_train) # Train model\n",
    "\n",
    "        # Make predictions\n",
    "        y_pred = model.predict(X_test)\n",
    "\n",
    "        score = accuracy_score(y_test,y_pred)\n",
    "        \n",
    "        model_name = list(models.keys())[i]\n",
    "        print(f'---- score for --- {model_name} ----')\n",
    "        print(f\"{score}\")\n",
    "        models_list.append(model_name)\n",
    "        scores.append(score)\n",
    "    \n",
    "    print()\n",
    "    \n",
    "    report = pd.DataFrame()\n",
    "    report['Model_name'] = models_list\n",
    "    report['Score'] = scores        \n",
    "    return report"
   ]
  },
  {
   "cell_type": "markdown",
   "id": "371050d9",
   "metadata": {},
   "source": [
    "### Let's check the report"
   ]
  },
  {
   "cell_type": "code",
   "execution_count": 5,
   "id": "c6eec8ab",
   "metadata": {},
   "outputs": [
    {
     "name": "stdout",
     "output_type": "stream",
     "text": [
      "---- score for --- Random Forest ----\n",
      "0.9620535714285714\n",
      "---- score for --- Decision Tree ----\n",
      "0.9330357142857143\n",
      "---- score for --- Gradient Boosting ----\n",
      "0.9732142857142857\n",
      "---- score for --- Logistic Regression ----\n",
      "0.8772321428571429\n",
      "---- score for --- K-Neighbors Classifier ----\n",
      "0.8102678571428571\n",
      "---- score for --- XGBClassifier ----\n",
      "0.96875\n",
      "---- score for --- CatBoosting Classifier ----\n",
      "0.9754464285714286\n",
      "---- score for --- AdaBoost Classifier ----\n",
      "0.9352678571428571\n",
      "\n"
     ]
    }
   ],
   "source": [
    "report = evaluate_models(X, y, models)"
   ]
  },
  {
   "cell_type": "code",
   "execution_count": 6,
   "id": "25c80379",
   "metadata": {
    "scrolled": true
   },
   "outputs": [
    {
     "data": {
      "text/html": [
       "<div>\n",
       "<style scoped>\n",
       "    .dataframe tbody tr th:only-of-type {\n",
       "        vertical-align: middle;\n",
       "    }\n",
       "\n",
       "    .dataframe tbody tr th {\n",
       "        vertical-align: top;\n",
       "    }\n",
       "\n",
       "    .dataframe thead th {\n",
       "        text-align: right;\n",
       "    }\n",
       "</style>\n",
       "<table border=\"1\" class=\"dataframe\">\n",
       "  <thead>\n",
       "    <tr style=\"text-align: right;\">\n",
       "      <th></th>\n",
       "      <th>Model_name</th>\n",
       "      <th>Score</th>\n",
       "    </tr>\n",
       "  </thead>\n",
       "  <tbody>\n",
       "    <tr>\n",
       "      <th>4</th>\n",
       "      <td>K-Neighbors Classifier</td>\n",
       "      <td>0.810268</td>\n",
       "    </tr>\n",
       "    <tr>\n",
       "      <th>3</th>\n",
       "      <td>Logistic Regression</td>\n",
       "      <td>0.877232</td>\n",
       "    </tr>\n",
       "    <tr>\n",
       "      <th>1</th>\n",
       "      <td>Decision Tree</td>\n",
       "      <td>0.933036</td>\n",
       "    </tr>\n",
       "    <tr>\n",
       "      <th>7</th>\n",
       "      <td>AdaBoost Classifier</td>\n",
       "      <td>0.935268</td>\n",
       "    </tr>\n",
       "    <tr>\n",
       "      <th>0</th>\n",
       "      <td>Random Forest</td>\n",
       "      <td>0.962054</td>\n",
       "    </tr>\n",
       "    <tr>\n",
       "      <th>5</th>\n",
       "      <td>XGBClassifier</td>\n",
       "      <td>0.968750</td>\n",
       "    </tr>\n",
       "    <tr>\n",
       "      <th>2</th>\n",
       "      <td>Gradient Boosting</td>\n",
       "      <td>0.973214</td>\n",
       "    </tr>\n",
       "    <tr>\n",
       "      <th>6</th>\n",
       "      <td>CatBoosting Classifier</td>\n",
       "      <td>0.975446</td>\n",
       "    </tr>\n",
       "  </tbody>\n",
       "</table>\n",
       "</div>"
      ],
      "text/plain": [
       "               Model_name     Score\n",
       "4  K-Neighbors Classifier  0.810268\n",
       "3     Logistic Regression  0.877232\n",
       "1           Decision Tree  0.933036\n",
       "7     AdaBoost Classifier  0.935268\n",
       "0           Random Forest  0.962054\n",
       "5           XGBClassifier  0.968750\n",
       "2       Gradient Boosting  0.973214\n",
       "6  CatBoosting Classifier  0.975446"
      ]
     },
     "execution_count": 6,
     "metadata": {},
     "output_type": "execute_result"
    }
   ],
   "source": [
    "report.sort_values('Score')"
   ]
  },
  {
   "cell_type": "markdown",
   "id": "d63a7528",
   "metadata": {},
   "source": [
    "- ### From the report above we can see that the logistic regression model performed the best, so we will continue training our model using logistic regression algorithm."
   ]
  },
  {
   "cell_type": "markdown",
   "id": "f73728d0",
   "metadata": {
    "id": "f73728d0"
   },
   "source": [
    "### Split into Train and test data\n",
    "\n",
    "- **Do you know why we split the train and test dataset?**\n",
    "> The train test split technique can be used for classification and regression problems to test machine learning algorithms. The procedure takes the given dataset and splits it into two subsets: ```Training data/train set:``` it is used to train the algorithm and fit the machine learning model\n",
    "then we have ```test data/test set``` which is basically a different data for which we know the values but this data was never shown to the model before. Thus if the model after training is performing good on test set as well then we can say that the Machine Learning model is good."
   ]
  },
  {
   "cell_type": "code",
   "execution_count": 7,
   "id": "130fe7f4",
   "metadata": {
    "id": "130fe7f4",
    "outputId": "4cced242-c7ca-40f1-d1c7-b229cd43ae35"
   },
   "outputs": [
    {
     "data": {
      "text/html": [
       "<div>\n",
       "<style scoped>\n",
       "    .dataframe tbody tr th:only-of-type {\n",
       "        vertical-align: middle;\n",
       "    }\n",
       "\n",
       "    .dataframe tbody tr th {\n",
       "        vertical-align: top;\n",
       "    }\n",
       "\n",
       "    .dataframe thead th {\n",
       "        text-align: right;\n",
       "    }\n",
       "</style>\n",
       "<table border=\"1\" class=\"dataframe\">\n",
       "  <thead>\n",
       "    <tr style=\"text-align: right;\">\n",
       "      <th></th>\n",
       "      <th>Age</th>\n",
       "      <th>Education</th>\n",
       "      <th>Marital Status</th>\n",
       "      <th>Parental Status</th>\n",
       "      <th>Children</th>\n",
       "      <th>Income</th>\n",
       "      <th>Total_Spending</th>\n",
       "      <th>Days_as_Customer</th>\n",
       "      <th>Recency</th>\n",
       "      <th>Wines</th>\n",
       "      <th>Fruits</th>\n",
       "      <th>Meat</th>\n",
       "      <th>Fish</th>\n",
       "      <th>Sweets</th>\n",
       "      <th>Gold</th>\n",
       "      <th>Web</th>\n",
       "      <th>Catalog</th>\n",
       "      <th>Store</th>\n",
       "      <th>Discount Purchases</th>\n",
       "      <th>Total Promo</th>\n",
       "      <th>NumWebVisitsMonth</th>\n",
       "    </tr>\n",
       "  </thead>\n",
       "  <tbody>\n",
       "    <tr>\n",
       "      <th>994</th>\n",
       "      <td>68</td>\n",
       "      <td>2</td>\n",
       "      <td>0</td>\n",
       "      <td>1</td>\n",
       "      <td>2</td>\n",
       "      <td>64587.0</td>\n",
       "      <td>108.0</td>\n",
       "      <td>4036.0</td>\n",
       "      <td>49</td>\n",
       "      <td>66</td>\n",
       "      <td>0</td>\n",
       "      <td>16</td>\n",
       "      <td>0.0</td>\n",
       "      <td>6</td>\n",
       "      <td>20.0</td>\n",
       "      <td>1</td>\n",
       "      <td>1</td>\n",
       "      <td>4</td>\n",
       "      <td>2</td>\n",
       "      <td>0</td>\n",
       "      <td>3</td>\n",
       "    </tr>\n",
       "    <tr>\n",
       "      <th>2162</th>\n",
       "      <td>65</td>\n",
       "      <td>2</td>\n",
       "      <td>1</td>\n",
       "      <td>1</td>\n",
       "      <td>1</td>\n",
       "      <td>47320.0</td>\n",
       "      <td>414.0</td>\n",
       "      <td>4361.0</td>\n",
       "      <td>10</td>\n",
       "      <td>200</td>\n",
       "      <td>19</td>\n",
       "      <td>111</td>\n",
       "      <td>50.0</td>\n",
       "      <td>15</td>\n",
       "      <td>19.0</td>\n",
       "      <td>5</td>\n",
       "      <td>1</td>\n",
       "      <td>8</td>\n",
       "      <td>6</td>\n",
       "      <td>0</td>\n",
       "      <td>6</td>\n",
       "    </tr>\n",
       "    <tr>\n",
       "      <th>906</th>\n",
       "      <td>61</td>\n",
       "      <td>2</td>\n",
       "      <td>0</td>\n",
       "      <td>0</td>\n",
       "      <td>0</td>\n",
       "      <td>86429.0</td>\n",
       "      <td>1449.0</td>\n",
       "      <td>4249.0</td>\n",
       "      <td>10</td>\n",
       "      <td>464</td>\n",
       "      <td>28</td>\n",
       "      <td>556</td>\n",
       "      <td>29.0</td>\n",
       "      <td>18</td>\n",
       "      <td>37.0</td>\n",
       "      <td>7</td>\n",
       "      <td>4</td>\n",
       "      <td>7</td>\n",
       "      <td>0</td>\n",
       "      <td>1</td>\n",
       "      <td>2</td>\n",
       "    </tr>\n",
       "    <tr>\n",
       "      <th>572</th>\n",
       "      <td>44</td>\n",
       "      <td>1</td>\n",
       "      <td>0</td>\n",
       "      <td>1</td>\n",
       "      <td>1</td>\n",
       "      <td>38593.0</td>\n",
       "      <td>177.0</td>\n",
       "      <td>4318.0</td>\n",
       "      <td>42</td>\n",
       "      <td>51</td>\n",
       "      <td>12</td>\n",
       "      <td>49</td>\n",
       "      <td>17.0</td>\n",
       "      <td>24</td>\n",
       "      <td>24.0</td>\n",
       "      <td>4</td>\n",
       "      <td>1</td>\n",
       "      <td>3</td>\n",
       "      <td>3</td>\n",
       "      <td>0</td>\n",
       "      <td>8</td>\n",
       "    </tr>\n",
       "    <tr>\n",
       "      <th>1877</th>\n",
       "      <td>64</td>\n",
       "      <td>2</td>\n",
       "      <td>1</td>\n",
       "      <td>0</td>\n",
       "      <td>0</td>\n",
       "      <td>72905.0</td>\n",
       "      <td>1515.0</td>\n",
       "      <td>4188.0</td>\n",
       "      <td>52</td>\n",
       "      <td>407</td>\n",
       "      <td>81</td>\n",
       "      <td>445</td>\n",
       "      <td>120.5</td>\n",
       "      <td>81</td>\n",
       "      <td>126.5</td>\n",
       "      <td>3</td>\n",
       "      <td>7</td>\n",
       "      <td>9</td>\n",
       "      <td>1</td>\n",
       "      <td>1</td>\n",
       "      <td>1</td>\n",
       "    </tr>\n",
       "    <tr>\n",
       "      <th>...</th>\n",
       "      <td>...</td>\n",
       "      <td>...</td>\n",
       "      <td>...</td>\n",
       "      <td>...</td>\n",
       "      <td>...</td>\n",
       "      <td>...</td>\n",
       "      <td>...</td>\n",
       "      <td>...</td>\n",
       "      <td>...</td>\n",
       "      <td>...</td>\n",
       "      <td>...</td>\n",
       "      <td>...</td>\n",
       "      <td>...</td>\n",
       "      <td>...</td>\n",
       "      <td>...</td>\n",
       "      <td>...</td>\n",
       "      <td>...</td>\n",
       "      <td>...</td>\n",
       "      <td>...</td>\n",
       "      <td>...</td>\n",
       "      <td>...</td>\n",
       "    </tr>\n",
       "    <tr>\n",
       "      <th>1638</th>\n",
       "      <td>53</td>\n",
       "      <td>2</td>\n",
       "      <td>1</td>\n",
       "      <td>1</td>\n",
       "      <td>2</td>\n",
       "      <td>44078.0</td>\n",
       "      <td>41.0</td>\n",
       "      <td>4039.0</td>\n",
       "      <td>17</td>\n",
       "      <td>24</td>\n",
       "      <td>1</td>\n",
       "      <td>10</td>\n",
       "      <td>2.0</td>\n",
       "      <td>0</td>\n",
       "      <td>4.0</td>\n",
       "      <td>2</td>\n",
       "      <td>0</td>\n",
       "      <td>3</td>\n",
       "      <td>2</td>\n",
       "      <td>0</td>\n",
       "      <td>5</td>\n",
       "    </tr>\n",
       "    <tr>\n",
       "      <th>1095</th>\n",
       "      <td>43</td>\n",
       "      <td>2</td>\n",
       "      <td>0</td>\n",
       "      <td>1</td>\n",
       "      <td>1</td>\n",
       "      <td>61825.0</td>\n",
       "      <td>424.0</td>\n",
       "      <td>4355.0</td>\n",
       "      <td>56</td>\n",
       "      <td>162</td>\n",
       "      <td>50</td>\n",
       "      <td>100</td>\n",
       "      <td>55.0</td>\n",
       "      <td>30</td>\n",
       "      <td>27.0</td>\n",
       "      <td>4</td>\n",
       "      <td>2</td>\n",
       "      <td>8</td>\n",
       "      <td>1</td>\n",
       "      <td>0</td>\n",
       "      <td>4</td>\n",
       "    </tr>\n",
       "    <tr>\n",
       "      <th>1130</th>\n",
       "      <td>71</td>\n",
       "      <td>3</td>\n",
       "      <td>1</td>\n",
       "      <td>1</td>\n",
       "      <td>1</td>\n",
       "      <td>67381.0</td>\n",
       "      <td>957.0</td>\n",
       "      <td>4559.0</td>\n",
       "      <td>67</td>\n",
       "      <td>815</td>\n",
       "      <td>8</td>\n",
       "      <td>53</td>\n",
       "      <td>11.0</td>\n",
       "      <td>0</td>\n",
       "      <td>70.0</td>\n",
       "      <td>2</td>\n",
       "      <td>2</td>\n",
       "      <td>9</td>\n",
       "      <td>4</td>\n",
       "      <td>1</td>\n",
       "      <td>7</td>\n",
       "    </tr>\n",
       "    <tr>\n",
       "      <th>1294</th>\n",
       "      <td>59</td>\n",
       "      <td>4</td>\n",
       "      <td>0</td>\n",
       "      <td>1</td>\n",
       "      <td>2</td>\n",
       "      <td>48918.0</td>\n",
       "      <td>62.0</td>\n",
       "      <td>4107.0</td>\n",
       "      <td>21</td>\n",
       "      <td>52</td>\n",
       "      <td>0</td>\n",
       "      <td>9</td>\n",
       "      <td>0.0</td>\n",
       "      <td>0</td>\n",
       "      <td>1.0</td>\n",
       "      <td>1</td>\n",
       "      <td>0</td>\n",
       "      <td>4</td>\n",
       "      <td>2</td>\n",
       "      <td>0</td>\n",
       "      <td>4</td>\n",
       "    </tr>\n",
       "    <tr>\n",
       "      <th>860</th>\n",
       "      <td>53</td>\n",
       "      <td>2</td>\n",
       "      <td>1</td>\n",
       "      <td>1</td>\n",
       "      <td>1</td>\n",
       "      <td>23228.0</td>\n",
       "      <td>40.0</td>\n",
       "      <td>4183.0</td>\n",
       "      <td>71</td>\n",
       "      <td>13</td>\n",
       "      <td>2</td>\n",
       "      <td>18</td>\n",
       "      <td>6.0</td>\n",
       "      <td>1</td>\n",
       "      <td>0.0</td>\n",
       "      <td>2</td>\n",
       "      <td>0</td>\n",
       "      <td>3</td>\n",
       "      <td>2</td>\n",
       "      <td>0</td>\n",
       "      <td>8</td>\n",
       "    </tr>\n",
       "  </tbody>\n",
       "</table>\n",
       "<p>1568 rows × 21 columns</p>\n",
       "</div>"
      ],
      "text/plain": [
       "      Age  Education  Marital Status  Parental Status  Children   Income  \\\n",
       "994    68          2               0                1         2  64587.0   \n",
       "2162   65          2               1                1         1  47320.0   \n",
       "906    61          2               0                0         0  86429.0   \n",
       "572    44          1               0                1         1  38593.0   \n",
       "1877   64          2               1                0         0  72905.0   \n",
       "...   ...        ...             ...              ...       ...      ...   \n",
       "1638   53          2               1                1         2  44078.0   \n",
       "1095   43          2               0                1         1  61825.0   \n",
       "1130   71          3               1                1         1  67381.0   \n",
       "1294   59          4               0                1         2  48918.0   \n",
       "860    53          2               1                1         1  23228.0   \n",
       "\n",
       "      Total_Spending  Days_as_Customer  Recency  Wines  Fruits  Meat   Fish  \\\n",
       "994            108.0            4036.0       49     66       0    16    0.0   \n",
       "2162           414.0            4361.0       10    200      19   111   50.0   \n",
       "906           1449.0            4249.0       10    464      28   556   29.0   \n",
       "572            177.0            4318.0       42     51      12    49   17.0   \n",
       "1877          1515.0            4188.0       52    407      81   445  120.5   \n",
       "...              ...               ...      ...    ...     ...   ...    ...   \n",
       "1638            41.0            4039.0       17     24       1    10    2.0   \n",
       "1095           424.0            4355.0       56    162      50   100   55.0   \n",
       "1130           957.0            4559.0       67    815       8    53   11.0   \n",
       "1294            62.0            4107.0       21     52       0     9    0.0   \n",
       "860             40.0            4183.0       71     13       2    18    6.0   \n",
       "\n",
       "      Sweets   Gold  Web  Catalog  Store  Discount Purchases  Total Promo  \\\n",
       "994        6   20.0    1        1      4                   2            0   \n",
       "2162      15   19.0    5        1      8                   6            0   \n",
       "906       18   37.0    7        4      7                   0            1   \n",
       "572       24   24.0    4        1      3                   3            0   \n",
       "1877      81  126.5    3        7      9                   1            1   \n",
       "...      ...    ...  ...      ...    ...                 ...          ...   \n",
       "1638       0    4.0    2        0      3                   2            0   \n",
       "1095      30   27.0    4        2      8                   1            0   \n",
       "1130       0   70.0    2        2      9                   4            1   \n",
       "1294       0    1.0    1        0      4                   2            0   \n",
       "860        1    0.0    2        0      3                   2            0   \n",
       "\n",
       "      NumWebVisitsMonth  \n",
       "994                   3  \n",
       "2162                  6  \n",
       "906                   2  \n",
       "572                   8  \n",
       "1877                  1  \n",
       "...                 ...  \n",
       "1638                  5  \n",
       "1095                  4  \n",
       "1130                  7  \n",
       "1294                  4  \n",
       "860                   8  \n",
       "\n",
       "[1568 rows x 21 columns]"
      ]
     },
     "execution_count": 7,
     "metadata": {},
     "output_type": "execute_result"
    }
   ],
   "source": [
    "# Separate data into train and test sets\n",
    "X_train, X_test, y_train, y_test = train_test_split(X, y, random_state=42, test_size=0.3)\n",
    "\n",
    "X_train"
   ]
  },
  {
   "cell_type": "markdown",
   "id": "1c42c967",
   "metadata": {},
   "source": [
    "### Let's do hyperparameter tuning\n",
    "- **And what's it actually?**\n",
    "\n",
    "> A Machine Learning model is defined as a mathematical model with a number of parameters that need to be learned from the data. By training a model with existing data, we are able to fit the model parameters. \n",
    "However, there is another kind of parameter, known as Hyperparameters, that cannot be directly learned from the regular training process. They are usually fixed before the actual training process begins. These parameters express important properties of the model such as its complexity or how fast it should learn. "
   ]
  },
  {
   "cell_type": "code",
   "execution_count": 8,
   "id": "3dd70ca1",
   "metadata": {},
   "outputs": [
    {
     "name": "stdout",
     "output_type": "stream",
     "text": [
      "Fitting 6 folds for each of 72 candidates, totalling 432 fits\n",
      "tuned hpyerparameters :(best parameters)  {'C': 100, 'max_iter': 200, 'multi_class': 'ovr', 'penalty': 'l1', 'solver': 'liblinear'}\n",
      "accuracy : 0.9700116014935705\n"
     ]
    }
   ],
   "source": [
    "# Grid search cross validation\n",
    "from sklearn.model_selection import GridSearchCV\n",
    "\n",
    "params = [\n",
    "    {\n",
    "        'solver': ['liblinear'],                 # supports both l1 and l2\n",
    "        'penalty': ['l1', 'l2'],\n",
    "        'C': [0.01, 0.1, 1, 10, 100],\n",
    "        'max_iter': [100, 200],\n",
    "        'multi_class': ['ovr']\n",
    "    },\n",
    "    {\n",
    "        'solver': ['lbfgs'],                     # only l2\n",
    "        'penalty': ['l2'],\n",
    "        'C': [0.01, 0.1, 1, 10, 100],\n",
    "        'max_iter': [100, 200],\n",
    "        'multi_class': ['ovr', 'multinomial']\n",
    "    },\n",
    "    {\n",
    "        'solver': ['saga'],                      # supports both\n",
    "        'penalty': ['l1', 'l2'],\n",
    "        'C': [0.01, 0.1, 1, 10],\n",
    "        'max_iter': [100, 200],\n",
    "        'multi_class': ['ovr', 'multinomial']\n",
    "    }\n",
    "]\n",
    "\n",
    "logreg=LogisticRegression()\n",
    "\n",
    "logreg_cv=GridSearchCV(logreg,params,cv=6,n_jobs=-1,verbose=1)\n",
    "logreg_cv.fit(X_train,y_train)\n",
    "\n",
    "print(\"tuned hpyerparameters :(best parameters) \",logreg_cv.best_params_)\n",
    "print(\"accuracy :\",logreg_cv.best_score_)"
   ]
  },
  {
   "cell_type": "markdown",
   "id": "2beb2a8b",
   "metadata": {},
   "source": [
    "### So we got our best parameters. Let's now train the model with those parameters."
   ]
  },
  {
   "cell_type": "code",
   "execution_count": 9,
   "id": "2937ae66",
   "metadata": {},
   "outputs": [],
   "source": [
    "best_lr_model = LogisticRegression(\n",
    "    C = 100, \n",
    "    max_iter =  100,\n",
    "    multi_class =  'ovr', \n",
    "    penalty =  'l1', \n",
    "    solver =  'liblinear'\n",
    ")"
   ]
  },
  {
   "cell_type": "markdown",
   "id": "8b132e02",
   "metadata": {
    "id": "8b132e02"
   },
   "source": [
    "**Initialize model with best parameters**"
   ]
  },
  {
   "cell_type": "markdown",
   "id": "17843664",
   "metadata": {
    "id": "17843664"
   },
   "source": [
    "### Let's check the report now"
   ]
  },
  {
   "cell_type": "code",
   "execution_count": 10,
   "id": "e8fe3684",
   "metadata": {
    "id": "e8fe3684",
    "outputId": "67e7f682-eaff-4b97-de7c-706cf3af1797"
   },
   "outputs": [
    {
     "name": "stdout",
     "output_type": "stream",
     "text": [
      "Logistic regression\n",
      "Accuracy Score value: 0.9702\n",
      "              precision    recall  f1-score   support\n",
      "\n",
      "           0       0.98      0.97      0.97       179\n",
      "           1       0.98      0.98      0.98       259\n",
      "           2       0.96      0.96      0.96       234\n",
      "\n",
      "    accuracy                           0.97       672\n",
      "   macro avg       0.97      0.97      0.97       672\n",
      "weighted avg       0.97      0.97      0.97       672\n",
      "\n"
     ]
    }
   ],
   "source": [
    "best_model = best_lr_model.fit(X_train,y_train)\n",
    "y_pred = best_model.predict(X_test)\n",
    "score = accuracy_score(y_test,y_pred)\n",
    "cr = classification_report(y_test,y_pred)\n",
    "\n",
    "print(\"Logistic regression\")\n",
    "print (\"Accuracy Score value: {:.4f}\".format(score))\n",
    "print (cr)"
   ]
  },
  {
   "cell_type": "markdown",
   "id": "ddf81d62",
   "metadata": {},
   "source": [
    "## Confusion matrix of the model\n",
    "- **What is confusion matrix ?**\n",
    "> The confusion matrix is a matrix used to determine the performance of the classification models for a given set of test data. It can only be determined if the true values for test data are known. The matrix itself can be easily understood, but the related terminologies may be confusing."
   ]
  },
  {
   "cell_type": "code",
   "execution_count": 11,
   "id": "78ddb30e",
   "metadata": {
    "id": "78ddb30e",
    "outputId": "4e62cc7f-7bed-4aa1-85aa-8df275d3750c"
   },
   "outputs": [
    {
     "data": {
      "text/plain": [
       "<sklearn.metrics._plot.confusion_matrix.ConfusionMatrixDisplay at 0x1dbe00013a0>"
      ]
     },
     "execution_count": 11,
     "metadata": {},
     "output_type": "execute_result"
    },
    {
     "data": {
      "image/png": "[encoded data removed]",
      "text/plain": [
       "<Figure size 640x480 with 2 Axes>"
      ]
     },
     "metadata": {},
     "output_type": "display_data"
    }
   ],
   "source": [
    "ConfusionMatrixDisplay.from_estimator(best_model, X_test, y_test)"
   ]
  },
  {
   "cell_type": "markdown",
   "id": "401046a4",
   "metadata": {},
   "source": [
    "- **Reports**\n",
    "\n",
    "**We can see, that the model performed pretty well.**\n",
    "- we have used logistic regression as it performed well than other models\n",
    "- We got a good accuracy while predicting the test dataset."
   ]
  },
  {
   "cell_type": "markdown",
   "id": "6fde78a4",
   "metadata": {},
   "source": []
  }
 ],
 "metadata": {
  "colab": {
   "provenance": []
  },
  "kernelspec": {
   "display_name": "base",
   "language": "python",
   "name": "python3"
  },
  "language_info": {
   "codemirror_mode": {
    "name": "ipython",
    "version": 3
   },
   "file_extension": ".py",
   "mimetype": "text/x-python",
   "name": "python",
   "nbconvert_exporter": "python",
   "pygments_lexer": "ipython3",
   "version": "3.12.7"
  }
 },
 "nbformat": 4,
 "nbformat_minor": 5
}
